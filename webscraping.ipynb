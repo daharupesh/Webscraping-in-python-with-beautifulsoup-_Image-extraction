{
 "cells": [
  {
   "cell_type": "code",
   "execution_count": 3,
   "metadata": {},
   "outputs": [
    {
     "name": "stdout",
     "output_type": "stream",
     "text": [
      "Collecting bs4\n",
      "  Downloading bs4-0.0.2-py2.py3-none-any.whl.metadata (411 bytes)\n",
      "Collecting beautifulsoup4 (from bs4)\n",
      "  Downloading beautifulsoup4-4.12.3-py3-none-any.whl.metadata (3.8 kB)\n",
      "Collecting soupsieve>1.2 (from beautifulsoup4->bs4)\n",
      "  Downloading soupsieve-2.5-py3-none-any.whl.metadata (4.7 kB)\n",
      "Downloading bs4-0.0.2-py2.py3-none-any.whl (1.2 kB)\n",
      "Downloading beautifulsoup4-4.12.3-py3-none-any.whl (147 kB)\n",
      "   ---------------------------------------- 0.0/147.9 kB ? eta -:--:--\n",
      "   ---------- ---------------------------- 41.0/147.9 kB 991.0 kB/s eta 0:00:01\n",
      "   ---------------------------------------- 147.9/147.9 kB 1.8 MB/s eta 0:00:00\n",
      "Downloading soupsieve-2.5-py3-none-any.whl (36 kB)\n",
      "Installing collected packages: soupsieve, beautifulsoup4, bs4\n",
      "Successfully installed beautifulsoup4-4.12.3 bs4-0.0.2 soupsieve-2.5\n",
      "Note: you may need to restart the kernel to use updated packages.\n"
     ]
    }
   ],
   "source": [
    "# Scrapping image from the internet by using python programming language....\n"
   ]
  },
  {
   "cell_type": "code",
   "execution_count": 2,
   "metadata": {},
   "outputs": [],
   "source": [
    "import requests\n",
    "from bs4 import BeautifulSoup\n",
    "from urllib.request import urlopen as uReq\n",
    "import os\n"
   ]
  },
  {
   "cell_type": "code",
   "execution_count": 8,
   "metadata": {},
   "outputs": [],
   "source": [
    "save_dir = \"images/\"\n",
    "if not os.path.exists(save_dir):\n",
    "    os.makedirs(save_dir)"
   ]
  },
  {
   "cell_type": "code",
   "execution_count": 9,
   "metadata": {},
   "outputs": [],
   "source": [
    "query = \"Elon Musk\"\n",
    "response = requests.get(f\"https://www.google.com/search?sca_esv=1114ab6409594670&sxsrf=ACQVn0-4uiDEoLH4duQvpG71QN_fBg5jKA:1710246748839&q={query}&tbm=isch&source=lnms&prmd=ivnsmbtz&sa=X&ved=2ahUKEwiuisXP3e6EAxWYb_UHHb2BACAQ0pQJegQIDhAB&biw=1536&bih=730&dpr=1.25#imgrc=Oj-coHRBsadieM\")"
   ]
  },
  {
   "cell_type": "code",
   "execution_count": 10,
   "metadata": {},
   "outputs": [
    {
     "name": "stdout",
     "output_type": "stream",
     "text": [
      "<Response [200]>\n"
     ]
    }
   ],
   "source": [
    "print(response)"
   ]
  },
  {
   "cell_type": "code",
   "execution_count": 11,
   "metadata": {},
   "outputs": [],
   "source": [
    "soup=BeautifulSoup(response.content, 'html.parser')"
   ]
  },
  {
   "cell_type": "code",
   "execution_count": 12,
   "metadata": {},
   "outputs": [
    {
     "data": {
      "text/plain": [
       "<!DOCTYPE html PUBLIC \"-//WAPFORUM//DTD XHTML Mobile 1.0//EN\" \"http://www.wapforum.org/DTD/xhtml-mobile10.dtd\">\n",
       "<html lang=\"en-IN\" xmlns=\"http://www.w3.org/1999/xhtml\"><head><meta content=\"application/xhtml+xml; charset=utf-8\" http-equiv=\"Content-Type\"/><meta content=\"no-cache\" name=\"Cache-Control\"/><title>Elon Musk - Google Search</title><style>a{text-decoration:none;color:inherit}a:hover{text-decoration:underline}a img{border:0}body{font-family:arial,sans-serif;padding:8px;margin:0 auto;max-width:700px;min-width:240px;}.FbhRzb{border-left:thin solid #dadce0;border-right:thin solid #dadce0;border-top:thin solid #dadce0;height:40px;overflow:hidden}.n692Zd{margin-bottom:10px}.cvifge{height:40px;border-spacing:0}.QvGUP{height:40px;padding:0 8px 0 8px;vertical-align:top}.O4cRJf{height:40px;width:100%;padding:0;padding-right:16px}.O1ePr{height:40px;padding:0;vertical-align:top}.kgJEQe{height:36px;width:98px;vertical-align:top;margin-top:4px}.lXLRf{vertical-align:top}.MhzMZd{border:0;vertical-align:middle;font-size:14px;height:40px;padding:0;width:100%;padding-left:16px}.xB0fq{height:40px;border:none;font-size:14px;background-color:#1a73e8;color:#fff;padding:0 16px;margin:0;vertical-align:top;cursor:pointer}.xB0fq:focus{border:1px solid #1a73e8}.M7pB2{border:thin solid #dadce0;margin:0 0 3px 0;font-size:13px;font-weight:500;height:40px}.euZec{width:100%;height:40px;text-align:center;border-spacing:0}table.euZec td{padding:0;width:25%}.QIqI7{display:inline-block;padding-top:4px;font-weight:bold;color:#4285f4}.EY24We{border-bottom:2px solid #4285f4}.CsQyDc{display:inline-block;color:#70757a}.TuS8Ad{font-size:14px}.HddGcc{padding:8px;color:#70757a}.dzp8ae{font-weight:bold;color:#3c4043}.rEM8G{color:#70757a}.bookcf{table-layout:fixed;width:100%;border-spacing:0}.InWNIe{text-align:center}.uZgmoc{border:thin solid #dadce0;color:#70757a;font-size:14px;text-align:center;table-layout:fixed;width:100%}.frGj1b{display:block;padding:12px 0 12px 0;width:100%}.BnJWBc{text-align:center;padding:6px 0 13px 0;height:35px}.e3goi{vertical-align:top;padding:0;height:180px}.GpQGbf{margin:auto;border-collapse:collapse;border-spacing:0;width:100%}</style></head><body><style>.X6ZCif{color:#202124;font-size:11px;line-height:16px;display:inline-block;padding-top:2px;overflow:hidden;padding-bottom:4px;width:100%}.TwVfHd{border-radius:16px;border:thin solid #dadce0;display:inline-block;padding:8px 8px;margin-right:8px;margin-bottom:4px}.yekiAe{background-color:#dadce0}.jjVJ4e{width:100%}.ezO2md{border:thin solid #dadce0;padding:12px 16px 12px 16px;margin-bottom:10px;font-family:arial,sans-serif}.lIMUZd{font-family:arial,sans-serif}.RntSmf{border-spacing:0}.lgD2Tc{width:100%}.SpelHe{text-align:center}.SpelHe{position:relative}.kCmkOe{position:relative}.kCmkOe{width:162px;height:140px;line-height:140px;overflow:'hidden';text-align:center}.DS1iW{text-align:center;margin:auto;vertical-align:middle;max-width:162px;max-height:140px}.AlD19d{padding-top:2px;padding-bottom:8px;}.fYyStc{word-break:break-word}.ynsChf{display:block;white-space:nowrap;overflow:hidden;text-overflow:ellipsis}.Fj3V3b{color:#1967d2;font-size:14px;line-height:20px}.FrIlee{color:#202124;font-size:11px;line-height:16px}.F9iS2e{color:#70757a;font-size:11px;line-height:16px}.WMQ2Le{color:#70757a;font-size:12px;line-height:16px}.x3G5ab{color:#202124;font-size:12px;line-height:16px}.fuLhoc{color:#1967d2;font-size:16px;line-height:20px}.epoveb{font-size:24px;line-height:28px;font-weight:400;color:#202124}.dXDvrc{color:#0d652d;font-size:14px;line-height:20px;word-wrap:break-word}.dloBPe{font-weight:bold}.YVIcad{color:#70757a}.JkVVdd{color:#ea4335}.oXZRFd{color:#ea4335}.MQHtg{color:#fbbc04}.pyMRrb{color:#1e8e3e}.EtTZid{color:#1e8e3e}.M3vVJe{color:#1967d2}.qXLe6d{display:block}.NHQNef{font-style:italic}.Cb8Z7c{white-space:pre}a.ZWRArf{text-decoration:none}a .CVA68e:hover{text-decoration:underline}</style><div class=\"n692Zd\"><div class=\"BnJWBc\"><a class=\"lXLRf\" href=\"/?sa=X&amp;sca_esv=1114ab6409594670&amp;biw=1536&amp;bih=730&amp;output=images&amp;ie=UTF-8&amp;tbm=isch&amp;ved=0ahUKEwj3_Z-CpvCEAxUM4zgGHS3IBasQPAgC\"><img alt=\"Google\" class=\"kgJEQe\" src=\"/images/branding/searchlogo/1x/googlelogo_desk_heirloom_color_150x55dp.gif\"/></a></div><div class=\"FbhRzb\"><form action=\"/search\"><input name=\"sca_esv\" type=\"hidden\" value=\"1114ab6409594670\"/><input name=\"biw\" type=\"hidden\" value=\"1536\"/><input name=\"bih\" type=\"hidden\" value=\"730\"/><input name=\"ie\" type=\"hidden\" value=\"ISO-8859-1\"/><input name=\"tbm\" type=\"hidden\" value=\"isch\"/><input name=\"oq\" type=\"hidden\"/><input name=\"aqs\" type=\"hidden\"/><table class=\"cvifge\"><tr><td class=\"O4cRJf\"><input class=\"MhzMZd\" name=\"q\" type=\"text\" value=\"Elon Musk\"/></td><td class=\"O1ePr\"><input class=\"xB0fq\" type=\"submit\" value=\"Search\"/></td></tr></table></form></div><div class=\"M7pB2\"><table class=\"euZec\"><tbody><tr><td><a class=\"CsQyDc\" href=\"/search?q=Elon+Musk&amp;sca_esv=1114ab6409594670&amp;biw=1536&amp;bih=730&amp;ie=UTF-8&amp;source=lnms&amp;sa=X&amp;ved=0ahUKEwj3_Z-CpvCEAxUM4zgGHS3IBasQ_AUIBCgA\">ALL</a></td><td><a class=\"CsQyDc\" href=\"/search?q=Elon+Musk&amp;sca_esv=1114ab6409594670&amp;biw=1536&amp;bih=730&amp;ie=UTF-8&amp;tbm=nws&amp;source=lnms&amp;sa=X&amp;ved=0ahUKEwj3_Z-CpvCEAxUM4zgGHS3IBasQ_AUIBSgB\">NEWS</a></td><td class=\"EY24We\"><span class=\"QIqI7\">IMAGES</span></td><td><a class=\"CsQyDc\" href=\"/search?q=Elon+Musk&amp;sca_esv=1114ab6409594670&amp;biw=1536&amp;bih=730&amp;ie=UTF-8&amp;tbm=vid&amp;source=lnms&amp;sa=X&amp;ved=0ahUKEwj3_Z-CpvCEAxUM4zgGHS3IBasQ_AUIBygD\">VIDEOS</a></td></tr></tbody></table></div></div><div class=\"X6ZCif\"><a class=\"TwVfHd\" href=\"/search?sca_esv=1114ab6409594670&amp;biw=1536&amp;bih=730&amp;ie=UTF-8&amp;tbm=isch&amp;q=Elon+Musk&amp;chips=q:elon+musk,g_1:tesla&amp;sa=X&amp;ved=0ahUKEwj3_Z-CpvCEAxUM4zgGHS3IBasQ4lYICygA\">tesla</a><a class=\"TwVfHd\" href=\"/search?sca_esv=1114ab6409594670&amp;biw=1536&amp;bih=730&amp;ie=UTF-8&amp;tbm=isch&amp;q=Elon+Musk&amp;chips=q:elon+musk,g_1:spacex&amp;sa=X&amp;ved=0ahUKEwj3_Z-CpvCEAxUM4zgGHS3IBasQ4lYIDCgB\">spacex</a><a class=\"TwVfHd\" href=\"/search?sca_esv=1114ab6409594670&amp;biw=1536&amp;bih=730&amp;ie=UTF-8&amp;tbm=isch&amp;q=Elon+Musk&amp;chips=q:elon+musk,g_1:rocket&amp;sa=X&amp;ved=0ahUKEwj3_Z-CpvCEAxUM4zgGHS3IBasQ4lYIDSgC\">rocket</a><a class=\"TwVfHd\" href=\"/search?sca_esv=1114ab6409594670&amp;biw=1536&amp;bih=730&amp;ie=UTF-8&amp;tbm=isch&amp;q=Elon+Musk&amp;chips=q:elon+musk,g_1:car&amp;sa=X&amp;ved=0ahUKEwj3_Z-CpvCEAxUM4zgGHS3IBasQ4lYIDigD\">car</a><a class=\"TwVfHd\" href=\"/search?sca_esv=1114ab6409594670&amp;biw=1536&amp;bih=730&amp;ie=UTF-8&amp;tbm=isch&amp;q=Elon+Musk&amp;chips=q:elon+musk,g_1:grimes&amp;sa=X&amp;ved=0ahUKEwj3_Z-CpvCEAxUM4zgGHS3IBasQ4lYIDygE\">grimes</a><a class=\"TwVfHd\" href=\"/search?sca_esv=1114ab6409594670&amp;biw=1536&amp;bih=730&amp;ie=UTF-8&amp;tbm=isch&amp;q=Elon+Musk&amp;chips=q:elon+musk,g_1:twitter&amp;sa=X&amp;ved=0ahUKEwj3_Z-CpvCEAxUM4zgGHS3IBasQ4lYIECgF\">twitter</a><a class=\"TwVfHd\" href=\"/search?sca_esv=1114ab6409594670&amp;biw=1536&amp;bih=730&amp;ie=UTF-8&amp;tbm=isch&amp;q=Elon+Musk&amp;chips=q:elon+musk,g_1:early&amp;sa=X&amp;ved=0ahUKEwj3_Z-CpvCEAxUM4zgGHS3IBasQ4lYIESgG\">early</a><a class=\"TwVfHd\" href=\"/search?sca_esv=1114ab6409594670&amp;biw=1536&amp;bih=730&amp;ie=UTF-8&amp;tbm=isch&amp;q=Elon+Musk&amp;chips=q:elon+musk,g_1:paypal&amp;sa=X&amp;ved=0ahUKEwj3_Z-CpvCEAxUM4zgGHS3IBasQ4lYIEigH\">paypal</a><a class=\"TwVfHd\" href=\"/search?sca_esv=1114ab6409594670&amp;biw=1536&amp;bih=730&amp;ie=UTF-8&amp;tbm=isch&amp;q=Elon+Musk&amp;chips=q:elon+musk,g_1:roadster&amp;sa=X&amp;ved=0ahUKEwj3_Z-CpvCEAxUM4zgGHS3IBasQ4lYIEygI\">roadster</a><a class=\"TwVfHd\" href=\"/search?sca_esv=1114ab6409594670&amp;biw=1536&amp;bih=730&amp;ie=UTF-8&amp;tbm=isch&amp;q=Elon+Musk&amp;chips=q:elon+musk,g_1:portrait&amp;sa=X&amp;ved=0ahUKEwj3_Z-CpvCEAxUM4zgGHS3IBasQ4lYIFCgJ\">portrait</a></div><div><table class=\"GpQGbf\"><tr><td align=\"center\" class=\"e3goi\"><div class=\"jjVJ4e\"> <div> <div class=\"lIMUZd\"><div><table class=\"RntSmf\"><tr><td><a href=\"/url?q=https://en.wikipedia.org/wiki/Elon_Musk&amp;sa=U&amp;ved=2ahUKEwj3_Z-CpvCEAxUM4zgGHS3IBasQqoUBegQIBxAB&amp;usg=AOvVaw0WuCmKjcNMmqeVed9tughV\"><div class=\"kCmkOe\"><img alt=\"\" class=\"DS1iW\" src=\"https://encrypted-tbn0.gstatic.com/images?q=tbn:ANd9GcSsksZmP_XTINDzPrOHKHR-fXCXDCXJctG2CPYNFjaVIxpN4gGIcQCd1n6N7-Y&amp;s\"/></div></a></td></tr><tr><td><a href=\"/url?q=https://en.wikipedia.org/wiki/Elon_Musk&amp;sa=U&amp;ved=2ahUKEwj3_Z-CpvCEAxUM4zgGHS3IBasQr4kDegQIBxAC&amp;usg=AOvVaw0r7Nr4SD1vwYpTCqTkSZ2n\"><div class=\"AlD19d\"> <span class=\"qXLe6d x3G5ab\"> <span class=\"fYyStc\">Elon Musk - Wikipedia</span> </span> <span class=\"qXLe6d F9iS2e\"> <span class=\"fYyStc\">en.wikipedia.org</span> </span> </div></a></td></tr></table></div></div> </div> </div></td><td align=\"center\" class=\"e3goi\"><div class=\"jjVJ4e\"> <div> <div class=\"lIMUZd\"><div><table class=\"RntSmf\"><tr><td><a href=\"/url?q=https://www.britannica.com/biography/Elon-Musk&amp;sa=U&amp;ved=2ahUKEwj3_Z-CpvCEAxUM4zgGHS3IBasQqoUBegQIExAB&amp;usg=AOvVaw3FbCN5OiOA6760AgJidTUX\"><div class=\"kCmkOe\"><img alt=\"\" class=\"DS1iW\" src=\"https://encrypted-tbn0.gstatic.com/images?q=tbn:ANd9GcQY_R5NSNoZkSlMo3hf86COGJ4fCv0s6Nx4k8uCGkWc6YGOn_m4-rIOQ3GhOhg&amp;s\"/></div></a></td></tr><tr><td><a href=\"/url?q=https://www.britannica.com/biography/Elon-Musk&amp;sa=U&amp;ved=2ahUKEwj3_Z-CpvCEAxUM4zgGHS3IBasQr4kDegQIExAC&amp;usg=AOvVaw1TmtB950Eu_-RgN69qA6df\"><div class=\"AlD19d\"> <span class=\"qXLe6d x3G5ab\"> <span class=\"fYyStc\">Elon Musk | Biography,...</span> </span> <span class=\"qXLe6d F9iS2e\"> <span class=\"fYyStc\">www.britannica.com</span> </span> </div></a></td></tr></table></div></div> </div> </div></td><td align=\"center\" class=\"e3goi\"><div class=\"jjVJ4e\"> <div> <div class=\"lIMUZd\"><div><table class=\"RntSmf\"><tr><td><a href=\"/url?q=https://www.investopedia.com/articles/personal-finance/061015/how-elon-musk-became-elon-musk.asp&amp;sa=U&amp;ved=2ahUKEwj3_Z-CpvCEAxUM4zgGHS3IBasQqoUBegQIEhAB&amp;usg=AOvVaw1mFUogsFFuKstb4UhaWLXZ\"><div class=\"kCmkOe\"><img alt=\"\" class=\"DS1iW\" src=\"https://encrypted-tbn0.gstatic.com/images?q=tbn:ANd9GcTTO0bYn7LKOBzOMJRp9mXeD2scBnuMtPGfQYqjaBoxMHMtDToYys4awIx7ou8&amp;s\"/></div></a></td></tr><tr><td><a href=\"/url?q=https://www.investopedia.com/articles/personal-finance/061015/how-elon-musk-became-elon-musk.asp&amp;sa=U&amp;ved=2ahUKEwj3_Z-CpvCEAxUM4zgGHS3IBasQr4kDegQIEhAC&amp;usg=AOvVaw35zLXOCk87qYEvomLAsZQe\"><div class=\"AlD19d\"> <span class=\"qXLe6d x3G5ab\"> <span class=\"fYyStc\">Who Is Elon Musk?</span> </span> <span class=\"qXLe6d F9iS2e\"> <span class=\"fYyStc\">www.investopedia.com</span> </span> </div></a></td></tr></table></div></div> </div> </div></td><td align=\"center\" class=\"e3goi\"><div class=\"jjVJ4e\"> <div> <div class=\"lIMUZd\"><div><table class=\"RntSmf\"><tr><td><a href=\"/url?q=https://www.hindustantimes.com/business/elon-musk-using-his-charity-for-tax-breaks-helping-his-own-businesses-as-101710129152980.html&amp;sa=U&amp;ved=2ahUKEwj3_Z-CpvCEAxUM4zgGHS3IBasQqoUBegQIDRAB&amp;usg=AOvVaw1bG6ja0wItNbAIga9YnFVJ\"><div class=\"kCmkOe\"><img alt=\"\" class=\"DS1iW\" src=\"https://encrypted-tbn0.gstatic.com/images?q=tbn:ANd9GcTYl-QmBxFfQvmam3JnG0Ba_PhVSDKpiJ_xFOWcZKUyjanqp3JcvOuXB_AF5wU&amp;s\"/></div></a></td></tr><tr><td><a href=\"/url?q=https://www.hindustantimes.com/business/elon-musk-using-his-charity-for-tax-breaks-helping-his-own-businesses-as-101710129152980.html&amp;sa=U&amp;ved=2ahUKEwj3_Z-CpvCEAxUM4zgGHS3IBasQr4kDegQIDRAC&amp;usg=AOvVaw1-ZND8baBqJ1IOnjEFqCyk\"><div class=\"AlD19d\"> <span class=\"qXLe6d x3G5ab\"> <span class=\"fYyStc\">Elon Musk using his charity...</span> </span> <span class=\"qXLe6d F9iS2e\"> <span class=\"fYyStc\">www.hindustantimes.com</span> </span> </div></a></td></tr></table></div></div> </div> </div></td></tr><tr><td align=\"center\" class=\"e3goi\"><div class=\"jjVJ4e\"> <div> <div class=\"lIMUZd\"><div><table class=\"RntSmf\"><tr><td><a href=\"/url?q=https://www.simonandschuster.com/books/Elon-Musk/Walter-Isaacson/9781982181284&amp;sa=U&amp;ved=2ahUKEwj3_Z-CpvCEAxUM4zgGHS3IBasQqoUBegQIDhAB&amp;usg=AOvVaw2tP6SV5LntlzVWDrlhXncH\"><div class=\"kCmkOe\"><img alt=\"\" class=\"DS1iW\" src=\"https://encrypted-tbn0.gstatic.com/images?q=tbn:ANd9GcS6PtbO3oSFgC1yh6BPlre0Sr5h3aca6UrEmg7ibGUrD1g40Xm5cZBGYl7G3PU&amp;s\"/></div></a></td></tr><tr><td><a href=\"/url?q=https://www.simonandschuster.com/books/Elon-Musk/Walter-Isaacson/9781982181284&amp;sa=U&amp;ved=2ahUKEwj3_Z-CpvCEAxUM4zgGHS3IBasQr4kDegQIDhAC&amp;usg=AOvVaw26dEtmtxURoMdDCgVzw6vo\"><div class=\"AlD19d\"> <span class=\"qXLe6d x3G5ab\"> <span class=\"fYyStc\">Elon Musk | Book by Walter...</span> </span> <span class=\"qXLe6d F9iS2e\"> <span class=\"fYyStc\">www.simonandschuster.com</span> </span> </div></a></td></tr></table></div></div> </div> </div></td><td align=\"center\" class=\"e3goi\"><div class=\"jjVJ4e\"> <div> <div class=\"lIMUZd\"><div><table class=\"RntSmf\"><tr><td><a href=\"/url?q=https://www.biography.com/business-leaders/elon-musk&amp;sa=U&amp;ved=2ahUKEwj3_Z-CpvCEAxUM4zgGHS3IBasQqoUBegQIDxAB&amp;usg=AOvVaw2UXjUSMjRfY2OZKvtg34Sj\"><div class=\"kCmkOe\"><img alt=\"\" class=\"DS1iW\" src=\"https://encrypted-tbn0.gstatic.com/images?q=tbn:ANd9GcSWquD3V9PShopfxR5z4mBgB3IZnXGWVDSQM_48N0nbiI_0DYg43GVIktea3Uc&amp;s\"/></div></a></td></tr><tr><td><a href=\"/url?q=https://www.biography.com/business-leaders/elon-musk&amp;sa=U&amp;ved=2ahUKEwj3_Z-CpvCEAxUM4zgGHS3IBasQr4kDegQIDxAC&amp;usg=AOvVaw1OaLv6R6TAyjg5v06CgCUn\"><div class=\"AlD19d\"> <span class=\"qXLe6d x3G5ab\"> <span class=\"fYyStc\">Elon Musk - Tesla, Age &amp;...</span> </span> <span class=\"qXLe6d F9iS2e\"> <span class=\"fYyStc\">www.biography.com</span> </span> </div></a></td></tr></table></div></div> </div> </div></td><td align=\"center\" class=\"e3goi\"><div class=\"jjVJ4e\"> <div> <div class=\"lIMUZd\"><div><table class=\"RntSmf\"><tr><td><a href=\"/url?q=https://abcnews.go.com/Business/timeline-elon-musks-tumultuous-twitter-acquisition-attempt/story%3Fid%3D86611191&amp;sa=U&amp;ved=2ahUKEwj3_Z-CpvCEAxUM4zgGHS3IBasQqoUBegQIDBAB&amp;usg=AOvVaw3_quzpfFmh8tjarv1dSNGP\"><div class=\"kCmkOe\"><img alt=\"\" class=\"DS1iW\" src=\"https://encrypted-tbn0.gstatic.com/images?q=tbn:ANd9GcSPf6wPoGZNPac4YVeTr95bTPwHEDU2Sl65hmiAwywZr39gPkk2lsAmYvpUog&amp;s\"/></div></a></td></tr><tr><td><a href=\"/url?q=https://abcnews.go.com/Business/timeline-elon-musks-tumultuous-twitter-acquisition-attempt/story%3Fid%3D86611191&amp;sa=U&amp;ved=2ahUKEwj3_Z-CpvCEAxUM4zgGHS3IBasQr4kDegQIDBAC&amp;usg=AOvVaw2s7mpf_lUSprB4iU35J6tR\"><div class=\"AlD19d\"> <span class=\"qXLe6d x3G5ab\"> <span class=\"fYyStc\">A timeline of Elon Musk's...</span> </span> <span class=\"qXLe6d F9iS2e\"> <span class=\"fYyStc\">abcnews.go.com</span> </span> </div></a></td></tr></table></div></div> </div> </div></td><td align=\"center\" class=\"e3goi\"><div class=\"jjVJ4e\"> <div> <div class=\"lIMUZd\"><div><table class=\"RntSmf\"><tr><td><a href=\"/url?q=https://www.newscientist.com/article/2342446-the-elon-musk-show-review-searching-for-the-man-who-is-elon-musk/&amp;sa=U&amp;ved=2ahUKEwj3_Z-CpvCEAxUM4zgGHS3IBasQqoUBegQIEBAB&amp;usg=AOvVaw1xsvtPYhXROwa7sIX08GpN\"><div class=\"kCmkOe\"><img alt=\"\" class=\"DS1iW\" src=\"https://encrypted-tbn0.gstatic.com/images?q=tbn:ANd9GcQkqgOWpGbsjvlfXgAzldcUv97Lh_0WqwpXwlrwCzhWF2YHLJO7PQgFKZR7gSg&amp;s\"/></div></a></td></tr><tr><td><a href=\"/url?q=https://www.newscientist.com/article/2342446-the-elon-musk-show-review-searching-for-the-man-who-is-elon-musk/&amp;sa=U&amp;ved=2ahUKEwj3_Z-CpvCEAxUM4zgGHS3IBasQr4kDegQIEBAC&amp;usg=AOvVaw3Lhu6Cil0Y8c5xKCWuNHid\"><div class=\"AlD19d\"> <span class=\"qXLe6d x3G5ab\"> <span class=\"fYyStc\">The Elon Musk Show review:...</span> </span> <span class=\"qXLe6d F9iS2e\"> <span class=\"fYyStc\">www.newscientist.com</span> </span> </div></a></td></tr></table></div></div> </div> </div></td></tr><tr><td align=\"center\" class=\"e3goi\"><div class=\"jjVJ4e\"> <div> <div class=\"lIMUZd\"><div><table class=\"RntSmf\"><tr><td><a href=\"/url?q=https://www.britannica.com/biography/Elon-Musk&amp;sa=U&amp;ved=2ahUKEwj3_Z-CpvCEAxUM4zgGHS3IBasQqoUBegQIChAB&amp;usg=AOvVaw3LEK5gIKJA3cfQUH9vGN6n\"><div class=\"kCmkOe\"><img alt=\"\" class=\"DS1iW\" src=\"https://encrypted-tbn0.gstatic.com/images?q=tbn:ANd9GcQosXj2elVFnxW60i0y2hp3ewC9ttZ6z78KaQ1MIqaaLOD_iocx9TT8qVsKW-k&amp;s\"/></div></a></td></tr><tr><td><a href=\"/url?q=https://www.britannica.com/biography/Elon-Musk&amp;sa=U&amp;ved=2ahUKEwj3_Z-CpvCEAxUM4zgGHS3IBasQr4kDegQIChAC&amp;usg=AOvVaw1Q6MvLcVgynShsSJ6grMzA\"><div class=\"AlD19d\"> <span class=\"qXLe6d x3G5ab\"> <span class=\"fYyStc\">Elon Musk | Biography,...</span> </span> <span class=\"qXLe6d F9iS2e\"> <span class=\"fYyStc\">www.britannica.com</span> </span> </div></a></td></tr></table></div></div> </div> </div></td><td align=\"center\" class=\"e3goi\"><div class=\"jjVJ4e\"> <div> <div class=\"lIMUZd\"><div><table class=\"RntSmf\"><tr><td><a href=\"/url?q=https://www.businessinsider.com/elon-musk&amp;sa=U&amp;ved=2ahUKEwj3_Z-CpvCEAxUM4zgGHS3IBasQqoUBegQICRAB&amp;usg=AOvVaw3wjbcb1YJWos5YpcoFPcUZ\"><div class=\"kCmkOe\"><img alt=\"\" class=\"DS1iW\" src=\"https://encrypted-tbn0.gstatic.com/images?q=tbn:ANd9GcQPvuVvVBy-4sRmLNi7aNFcCiLP38rydifYXwFQfE3bQ2IJ6Q5mmXrZdFCSlw&amp;s\"/></div></a></td></tr><tr><td><a href=\"/url?q=https://www.businessinsider.com/elon-musk&amp;sa=U&amp;ved=2ahUKEwj3_Z-CpvCEAxUM4zgGHS3IBasQr4kDegQICRAC&amp;usg=AOvVaw25BVSGevKhLUT1Gj2145b5\"><div class=\"AlD19d\"> <span class=\"qXLe6d x3G5ab\"> <span class=\"fYyStc\">Elon Musk Runs Twitter,...</span> </span> <span class=\"qXLe6d F9iS2e\"> <span class=\"fYyStc\">www.businessinsider.com</span> </span> </div></a></td></tr></table></div></div> </div> </div></td><td align=\"center\" class=\"e3goi\"><div class=\"jjVJ4e\"> <div> <div class=\"lIMUZd\"><div><table class=\"RntSmf\"><tr><td><a href=\"/url?q=https://www.britannica.com/biography/Elon-Musk&amp;sa=U&amp;ved=2ahUKEwj3_Z-CpvCEAxUM4zgGHS3IBasQqoUBegQIERAB&amp;usg=AOvVaw1mcyUFxWUr6gPk8W-o7Sqq\"><div class=\"kCmkOe\"><img alt=\"\" class=\"DS1iW\" src=\"https://encrypted-tbn0.gstatic.com/images?q=tbn:ANd9GcS6mPr1g683xgMlTnJfswzPyIjixDUJCLKR_GUOYd43dGj0LB8Uum64r_cOjl4&amp;s\"/></div></a></td></tr><tr><td><a href=\"/url?q=https://www.britannica.com/biography/Elon-Musk&amp;sa=U&amp;ved=2ahUKEwj3_Z-CpvCEAxUM4zgGHS3IBasQr4kDegQIERAC&amp;usg=AOvVaw2SUEnz_93z8yBhpHAoDQnc\"><div class=\"AlD19d\"> <span class=\"qXLe6d x3G5ab\"> <span class=\"fYyStc\">Elon Musk | Biography,...</span> </span> <span class=\"qXLe6d F9iS2e\"> <span class=\"fYyStc\">www.britannica.com</span> </span> </div></a></td></tr></table></div></div> </div> </div></td><td align=\"center\" class=\"e3goi\"><div class=\"jjVJ4e\"> <div> <div class=\"lIMUZd\"><div><table class=\"RntSmf\"><tr><td><a href=\"/url?q=https://www.wired.com/story/plaintext-elon-musk-happy-child-launching-rockets/&amp;sa=U&amp;ved=2ahUKEwj3_Z-CpvCEAxUM4zgGHS3IBasQqoUBegQICxAB&amp;usg=AOvVaw0j27oXldA5pIeaYaaP4hyo\"><div class=\"kCmkOe\"><img alt=\"\" class=\"DS1iW\" src=\"https://encrypted-tbn0.gstatic.com/images?q=tbn:ANd9GcQoVC24-iwfmg1ynOoPkfB6fTOMKA4IEscvasg7lr_QSTQQIUU8Gq65d0EOoQ&amp;s\"/></div></a></td></tr><tr><td><a href=\"/url?q=https://www.wired.com/story/plaintext-elon-musk-happy-child-launching-rockets/&amp;sa=U&amp;ved=2ahUKEwj3_Z-CpvCEAxUM4zgGHS3IBasQr4kDegQICxAC&amp;usg=AOvVaw3hpdpdn4hVCX9JL26W7MqL\"><div class=\"AlD19d\"> <span class=\"qXLe6d x3G5ab\"> <span class=\"fYyStc\">If Elon Musk Had Been a...</span> </span> <span class=\"qXLe6d F9iS2e\"> <span class=\"fYyStc\">www.wired.com</span> </span> </div></a></td></tr></table></div></div> </div> </div></td></tr><tr><td align=\"center\" class=\"e3goi\"><div class=\"jjVJ4e\"> <div> <div class=\"lIMUZd\"><div><table class=\"RntSmf\"><tr><td><a href=\"/url?q=https://www.wsj.com/articles/elon-musk-twitter-strange-legal-fight-11657488572&amp;sa=U&amp;ved=2ahUKEwj3_Z-CpvCEAxUM4zgGHS3IBasQqoUBegQIAxAB&amp;usg=AOvVaw0yqLDCcA5byHhq6q_e1ASf\"><div class=\"kCmkOe\"><img alt=\"\" class=\"DS1iW\" src=\"https://encrypted-tbn0.gstatic.com/images?q=tbn:ANd9GcQYwvvq7j1SJBbnE6AQxBRuT2qIknsC6tF6PYu_F1AHiKv3-issMO-i0oATRxc&amp;s\"/></div></a></td></tr><tr><td><a href=\"/url?q=https://www.wsj.com/articles/elon-musk-twitter-strange-legal-fight-11657488572&amp;sa=U&amp;ved=2ahUKEwj3_Z-CpvCEAxUM4zgGHS3IBasQr4kDegQIAxAC&amp;usg=AOvVaw3DBqz38IovdkOQ6Gvw0uRw\"><div class=\"AlD19d\"> <span class=\"qXLe6d x3G5ab\"> <span class=\"fYyStc\">Twitter Didn't Seek a Sale....</span> </span> <span class=\"qXLe6d F9iS2e\"> <span class=\"fYyStc\">www.wsj.com</span> </span> </div></a></td></tr></table></div></div> </div> </div></td><td align=\"center\" class=\"e3goi\"><div class=\"jjVJ4e\"> <div> <div class=\"lIMUZd\"><div><table class=\"RntSmf\"><tr><td><a href=\"/url?q=https://www.rollingstone.com/culture/culture-news/elon-musk-says-find-new-twitter-ceo-2023-1234680357/&amp;sa=U&amp;ved=2ahUKEwj3_Z-CpvCEAxUM4zgGHS3IBasQqoUBegQIAhAB&amp;usg=AOvVaw3dZyec9X77LrrXszPJuhOy\"><div class=\"kCmkOe\"><img alt=\"\" class=\"DS1iW\" src=\"https://encrypted-tbn0.gstatic.com/images?q=tbn:ANd9GcSwq0dm9LsIJFXhVpVi2-xb2VQSTdG7Tb92l9AIyKFFgrYonh1FnTbuvi-3Cw&amp;s\"/></div></a></td></tr><tr><td><a href=\"/url?q=https://www.rollingstone.com/culture/culture-news/elon-musk-says-find-new-twitter-ceo-2023-1234680357/&amp;sa=U&amp;ved=2ahUKEwj3_Z-CpvCEAxUM4zgGHS3IBasQr4kDegQIAhAC&amp;usg=AOvVaw2nRLmTEhL2TrGmVDPXCvhu\"><div class=\"AlD19d\"> <span class=\"qXLe6d x3G5ab\"> <span class=\"fYyStc\">Elon Musk Says He Wants New...</span> </span> <span class=\"qXLe6d F9iS2e\"> <span class=\"fYyStc\">www.rollingstone.com</span> </span> </div></a></td></tr></table></div></div> </div> </div></td><td align=\"center\" class=\"e3goi\"><div class=\"jjVJ4e\"> <div> <div class=\"lIMUZd\"><div><table class=\"RntSmf\"><tr><td><a href=\"/url?q=https://www.ndtv.com/business-news/elon-musk-loses-40-billion-net-worth-in-2024-tesla-shares-shed-29-5206174&amp;sa=U&amp;ved=2ahUKEwj3_Z-CpvCEAxUM4zgGHS3IBasQqoUBegQIABAB&amp;usg=AOvVaw3plqnaPHZyO3IPGYa2nN92\"><div class=\"kCmkOe\"><img alt=\"\" class=\"DS1iW\" src=\"https://encrypted-tbn0.gstatic.com/images?q=tbn:ANd9GcT1YroynUWZSTWWSMy3ad8jml-vPAlUEkbYdhxJdbJvL5LNXf6Bztk_ebff1Dg&amp;s\"/></div></a></td></tr><tr><td><a href=\"/url?q=https://www.ndtv.com/business-news/elon-musk-loses-40-billion-net-worth-in-2024-tesla-shares-shed-29-5206174&amp;sa=U&amp;ved=2ahUKEwj3_Z-CpvCEAxUM4zgGHS3IBasQr4kDegQIABAC&amp;usg=AOvVaw3MlpSAOORhQZmdB3RmAEkX\"><div class=\"AlD19d\"> <span class=\"qXLe6d x3G5ab\"> <span class=\"fYyStc\">Elon Musk Loses $40 Billion...</span> </span> <span class=\"qXLe6d F9iS2e\"> <span class=\"fYyStc\">www.ndtv.com</span> </span> </div></a></td></tr></table></div></div> </div> </div></td><td align=\"center\" class=\"e3goi\"><div class=\"jjVJ4e\"> <div> <div class=\"lIMUZd\"><div><table class=\"RntSmf\"><tr><td><a href=\"/url?q=https://www.texastribune.org/2023/12/13/elon-musk-austin-texas-university/&amp;sa=U&amp;ved=2ahUKEwj3_Z-CpvCEAxUM4zgGHS3IBasQqoUBegQIBhAB&amp;usg=AOvVaw15WNW1akwwhZPTeSeROCb2\"><div class=\"kCmkOe\"><img alt=\"\" class=\"DS1iW\" src=\"https://encrypted-tbn0.gstatic.com/images?q=tbn:ANd9GcRDaylV06uc9b6yBk9AHIi5FiT61NmatK4xCGn6tx16FoCUGPo5IsWj64MD_qU&amp;s\"/></div></a></td></tr><tr><td><a href=\"/url?q=https://www.texastribune.org/2023/12/13/elon-musk-austin-texas-university/&amp;sa=U&amp;ved=2ahUKEwj3_Z-CpvCEAxUM4zgGHS3IBasQr4kDegQIBhAC&amp;usg=AOvVaw3C56_TZQgA78oH6DPuXY46\"><div class=\"AlD19d\"> <span class=\"qXLe6d x3G5ab\"> <span class=\"fYyStc\">Elon Musk plans to open a...</span> </span> <span class=\"qXLe6d F9iS2e\"> <span class=\"fYyStc\">www.texastribune.org</span> </span> </div></a></td></tr></table></div></div> </div> </div></td></tr><tr><td align=\"center\" class=\"e3goi\"><div class=\"jjVJ4e\"> <div> <div class=\"lIMUZd\"><div><table class=\"RntSmf\"><tr><td><a href=\"/url?q=https://www.bloomberg.com/news/articles/2024-03-04/elon-musk-net-worth-jeff-bezos-overtakes-tesla-ceo-on-billionaire-wealth-list&amp;sa=U&amp;ved=2ahUKEwj3_Z-CpvCEAxUM4zgGHS3IBasQqoUBegQIBBAB&amp;usg=AOvVaw2O3etiOrw2cJyOkRdtsRc8\"><div class=\"kCmkOe\"><img alt=\"\" class=\"DS1iW\" src=\"https://encrypted-tbn0.gstatic.com/images?q=tbn:ANd9GcQzmluwYS3ot6iuxshemtHTS5CS_-X0rajDC20ddyQ7kKk6WXF8K4KWpAIiNhM&amp;s\"/></div></a></td></tr><tr><td><a href=\"/url?q=https://www.bloomberg.com/news/articles/2024-03-04/elon-musk-net-worth-jeff-bezos-overtakes-tesla-ceo-on-billionaire-wealth-list&amp;sa=U&amp;ved=2ahUKEwj3_Z-CpvCEAxUM4zgGHS3IBasQr4kDegQIBBAC&amp;usg=AOvVaw0AgCHif-Oguk3GYVOJkFHb\"><div class=\"AlD19d\"> <span class=\"qXLe6d x3G5ab\"> <span class=\"fYyStc\">Elon Musk Net Worth: Jeff...</span> </span> <span class=\"qXLe6d F9iS2e\"> <span class=\"fYyStc\">www.bloomberg.com</span> </span> </div></a></td></tr></table></div></div> </div> </div></td><td align=\"center\" class=\"e3goi\"><div class=\"jjVJ4e\"> <div> <div class=\"lIMUZd\"><div><table class=\"RntSmf\"><tr><td><a href=\"/url?q=https://www.investopedia.com/elon-musk-launched-his-own-ai-startup-heres-musks-net-worth-7562899&amp;sa=U&amp;ved=2ahUKEwj3_Z-CpvCEAxUM4zgGHS3IBasQqoUBegQIARAB&amp;usg=AOvVaw1F-72Wa7fyNY3EN4D1YJpd\"><div class=\"kCmkOe\"><img alt=\"\" class=\"DS1iW\" src=\"https://encrypted-tbn0.gstatic.com/images?q=tbn:ANd9GcQUpbXylJ-BCytvIaprv6cj1oqc6QchlXaSpAMaJ0KAriVmKB_AeYhz2dUPGA&amp;s\"/></div></a></td></tr><tr><td><a href=\"/url?q=https://www.investopedia.com/elon-musk-launched-his-own-ai-startup-heres-musks-net-worth-7562899&amp;sa=U&amp;ved=2ahUKEwj3_Z-CpvCEAxUM4zgGHS3IBasQr4kDegQIARAC&amp;usg=AOvVaw0pmx97TQgJvmxImvNjZJvo\"><div class=\"AlD19d\"> <span class=\"qXLe6d x3G5ab\"> <span class=\"fYyStc\">Elon Musk Has Rebranded...</span> </span> <span class=\"qXLe6d F9iS2e\"> <span class=\"fYyStc\">www.investopedia.com</span> </span> </div></a></td></tr></table></div></div> </div> </div></td><td align=\"center\" class=\"e3goi\"><div class=\"jjVJ4e\"> <div> <div class=\"lIMUZd\"><div><table class=\"RntSmf\"><tr><td><a href=\"/url?q=https://finance.yahoo.com/news/elon-musk-grok-chatbot-open-191904337.html&amp;sa=U&amp;ved=2ahUKEwj3_Z-CpvCEAxUM4zgGHS3IBasQqoUBegQICBAB&amp;usg=AOvVaw2Y4rOE4CMZ3PHTweE-XjME\"><div class=\"kCmkOe\"><img alt=\"\" class=\"DS1iW\" src=\"https://encrypted-tbn0.gstatic.com/images?q=tbn:ANd9GcQsXQiScJCEbAdDsfsj7vuOOpeE-B3yW7GTCfzXDNB9eTqYmWanHYC5YuNVJA&amp;s\"/></div></a></td></tr><tr><td><a href=\"/url?q=https://finance.yahoo.com/news/elon-musk-grok-chatbot-open-191904337.html&amp;sa=U&amp;ved=2ahUKEwj3_Z-CpvCEAxUM4zgGHS3IBasQr4kDegQICBAC&amp;usg=AOvVaw3VN9XrZVPR7pwI9p7H8yO5\"><div class=\"AlD19d\"> <span class=\"qXLe6d x3G5ab\"> <span class=\"fYyStc\">Elon Musk to make Grok...</span> </span> <span class=\"qXLe6d F9iS2e\"> <span class=\"fYyStc\">finance.yahoo.com</span> </span> </div></a></td></tr></table></div></div> </div> </div></td><td align=\"center\" class=\"e3goi\"><div class=\"jjVJ4e\"> <div> <div class=\"lIMUZd\"><div><table class=\"RntSmf\"><tr><td><a href=\"/url?q=https://www.ndtv.com/feature/how-elon-musk-richest-man-in-the-world-earned-his-first-1-million-4412988&amp;sa=U&amp;ved=2ahUKEwj3_Z-CpvCEAxUM4zgGHS3IBasQqoUBegQIBRAB&amp;usg=AOvVaw1VJ4Cu2NI0rX0RGEctZVem\"><div class=\"kCmkOe\"><img alt=\"\" class=\"DS1iW\" src=\"https://encrypted-tbn0.gstatic.com/images?q=tbn:ANd9GcSMYNRVFWT78z1HfCjjsXyWHH40VRIwjNiYar3jQYHUhnaCQJZ6GSxCQ6cYto8&amp;s\"/></div></a></td></tr><tr><td><a href=\"/url?q=https://www.ndtv.com/feature/how-elon-musk-richest-man-in-the-world-earned-his-first-1-million-4412988&amp;sa=U&amp;ved=2ahUKEwj3_Z-CpvCEAxUM4zgGHS3IBasQr4kDegQIBRAC&amp;usg=AOvVaw3V4vTEwDCtFhS0-_1wRHCo\"><div class=\"AlD19d\"> <span class=\"qXLe6d x3G5ab\"> <span class=\"fYyStc\">How Elon Musk, Richest Man...</span> </span> <span class=\"qXLe6d F9iS2e\"> <span class=\"fYyStc\">www.ndtv.com</span> </span> </div></a></td></tr></table></div></div> </div> </div></td></tr></table></div><table class=\"uZgmoc\"><tbody><td><a class=\"frGj1b\" href=\"/search?q=Elon+Musk&amp;sca_esv=1114ab6409594670&amp;biw=1536&amp;bih=730&amp;ie=UTF-8&amp;tbm=isch&amp;ei=fh3xZffGEIzG4-EPrZCX2Ao&amp;start=20&amp;sa=N\">Next &gt;</a></td></tbody></table><br/><div class=\"TuS8Ad\" data-ved=\"0ahUKEwj3_Z-CpvCEAxUM4zgGHS3IBasQpyoIUg\"><style>.VYM29{font-weight:bold}</style><div align=\"center\" class=\"HddGcc\"><span class=\"VYM29\">360020, Rajkot, Gujarat</span><span> - </span><span>From your IP address</span><span> - </span><a href=\"/url?q=https://support.google.com/websearch%3Fp%3Dws_settings_location%26hl%3Den-IN&amp;opi=89978449&amp;sa=U&amp;ved=0ahUKEwj3_Z-CpvCEAxUM4zgGHS3IBasQty4IUw&amp;usg=AOvVaw0_JQQZkxSHq0Z0I02aV-ZC\">Learn more</a></div><div align=\"center\"><a class=\"rEM8G\" href=\"/url?q=https://accounts.google.com/ServiceLogin%3Fcontinue%3Dhttps://www.google.com/search%253Fsca_esv%253D1114ab6409594670%2526sxsrf%253DACQVn0-4uiDEoLH4duQvpG71QN_fBg5jKA:1710246748839%2526q%253DElon%252BMusk%2526tbm%253Disch%2526source%253Dlnms%2526prmd%253Divnsmbtz%2526sa%253DX%2526ved%253D2ahUKEwiuisXP3e6EAxWYb_UHHb2BACAQ0pQJegQIDhAB%2526biw%253D1536%2526bih%253D730%2526dpr%253D1.25%26hl%3Den&amp;opi=89978449&amp;sa=U&amp;ved=0ahUKEwj3_Z-CpvCEAxUM4zgGHS3IBasQxs8CCFQ&amp;usg=AOvVaw2haxDUq2ehengc7xkAV9sa\">Sign in</a></div><div><table class=\"bookcf\"><tbody class=\"InWNIe\"><tr><td><a class=\"rEM8G\" href=\"https://www.google.com/preferences?hl=en&amp;sa=X&amp;ved=0ahUKEwj3_Z-CpvCEAxUM4zgGHS3IBasQv5YECFU\">Settings</a></td><td><a class=\"rEM8G\" href=\"https://www.google.com/intl/en_in/policies/privacy/\">Privacy</a></td><td><a class=\"rEM8G\" href=\"https://www.google.com/intl/en_in/policies/terms/\">Terms</a></td></tr></tbody></table></div></div><div> </div></body></html>"
      ]
     },
     "execution_count": 12,
     "metadata": {},
     "output_type": "execute_result"
    }
   ],
   "source": [
    "soup"
   ]
  },
  {
   "cell_type": "code",
   "execution_count": 13,
   "metadata": {},
   "outputs": [],
   "source": [
    "images_tage=soup.find_all(\"img\")"
   ]
  },
  {
   "cell_type": "code",
   "execution_count": 14,
   "metadata": {},
   "outputs": [
    {
     "data": {
      "text/plain": [
       "[<img alt=\"Google\" class=\"kgJEQe\" src=\"/images/branding/searchlogo/1x/googlelogo_desk_heirloom_color_150x55dp.gif\"/>,\n",
       " <img alt=\"\" class=\"DS1iW\" src=\"https://encrypted-tbn0.gstatic.com/images?q=tbn:ANd9GcSsksZmP_XTINDzPrOHKHR-fXCXDCXJctG2CPYNFjaVIxpN4gGIcQCd1n6N7-Y&amp;s\"/>,\n",
       " <img alt=\"\" class=\"DS1iW\" src=\"https://encrypted-tbn0.gstatic.com/images?q=tbn:ANd9GcQY_R5NSNoZkSlMo3hf86COGJ4fCv0s6Nx4k8uCGkWc6YGOn_m4-rIOQ3GhOhg&amp;s\"/>,\n",
       " <img alt=\"\" class=\"DS1iW\" src=\"https://encrypted-tbn0.gstatic.com/images?q=tbn:ANd9GcTTO0bYn7LKOBzOMJRp9mXeD2scBnuMtPGfQYqjaBoxMHMtDToYys4awIx7ou8&amp;s\"/>,\n",
       " <img alt=\"\" class=\"DS1iW\" src=\"https://encrypted-tbn0.gstatic.com/images?q=tbn:ANd9GcTYl-QmBxFfQvmam3JnG0Ba_PhVSDKpiJ_xFOWcZKUyjanqp3JcvOuXB_AF5wU&amp;s\"/>,\n",
       " <img alt=\"\" class=\"DS1iW\" src=\"https://encrypted-tbn0.gstatic.com/images?q=tbn:ANd9GcS6PtbO3oSFgC1yh6BPlre0Sr5h3aca6UrEmg7ibGUrD1g40Xm5cZBGYl7G3PU&amp;s\"/>,\n",
       " <img alt=\"\" class=\"DS1iW\" src=\"https://encrypted-tbn0.gstatic.com/images?q=tbn:ANd9GcSWquD3V9PShopfxR5z4mBgB3IZnXGWVDSQM_48N0nbiI_0DYg43GVIktea3Uc&amp;s\"/>,\n",
       " <img alt=\"\" class=\"DS1iW\" src=\"https://encrypted-tbn0.gstatic.com/images?q=tbn:ANd9GcSPf6wPoGZNPac4YVeTr95bTPwHEDU2Sl65hmiAwywZr39gPkk2lsAmYvpUog&amp;s\"/>,\n",
       " <img alt=\"\" class=\"DS1iW\" src=\"https://encrypted-tbn0.gstatic.com/images?q=tbn:ANd9GcQkqgOWpGbsjvlfXgAzldcUv97Lh_0WqwpXwlrwCzhWF2YHLJO7PQgFKZR7gSg&amp;s\"/>,\n",
       " <img alt=\"\" class=\"DS1iW\" src=\"https://encrypted-tbn0.gstatic.com/images?q=tbn:ANd9GcQosXj2elVFnxW60i0y2hp3ewC9ttZ6z78KaQ1MIqaaLOD_iocx9TT8qVsKW-k&amp;s\"/>,\n",
       " <img alt=\"\" class=\"DS1iW\" src=\"https://encrypted-tbn0.gstatic.com/images?q=tbn:ANd9GcQPvuVvVBy-4sRmLNi7aNFcCiLP38rydifYXwFQfE3bQ2IJ6Q5mmXrZdFCSlw&amp;s\"/>,\n",
       " <img alt=\"\" class=\"DS1iW\" src=\"https://encrypted-tbn0.gstatic.com/images?q=tbn:ANd9GcS6mPr1g683xgMlTnJfswzPyIjixDUJCLKR_GUOYd43dGj0LB8Uum64r_cOjl4&amp;s\"/>,\n",
       " <img alt=\"\" class=\"DS1iW\" src=\"https://encrypted-tbn0.gstatic.com/images?q=tbn:ANd9GcQoVC24-iwfmg1ynOoPkfB6fTOMKA4IEscvasg7lr_QSTQQIUU8Gq65d0EOoQ&amp;s\"/>,\n",
       " <img alt=\"\" class=\"DS1iW\" src=\"https://encrypted-tbn0.gstatic.com/images?q=tbn:ANd9GcQYwvvq7j1SJBbnE6AQxBRuT2qIknsC6tF6PYu_F1AHiKv3-issMO-i0oATRxc&amp;s\"/>,\n",
       " <img alt=\"\" class=\"DS1iW\" src=\"https://encrypted-tbn0.gstatic.com/images?q=tbn:ANd9GcSwq0dm9LsIJFXhVpVi2-xb2VQSTdG7Tb92l9AIyKFFgrYonh1FnTbuvi-3Cw&amp;s\"/>,\n",
       " <img alt=\"\" class=\"DS1iW\" src=\"https://encrypted-tbn0.gstatic.com/images?q=tbn:ANd9GcT1YroynUWZSTWWSMy3ad8jml-vPAlUEkbYdhxJdbJvL5LNXf6Bztk_ebff1Dg&amp;s\"/>,\n",
       " <img alt=\"\" class=\"DS1iW\" src=\"https://encrypted-tbn0.gstatic.com/images?q=tbn:ANd9GcRDaylV06uc9b6yBk9AHIi5FiT61NmatK4xCGn6tx16FoCUGPo5IsWj64MD_qU&amp;s\"/>,\n",
       " <img alt=\"\" class=\"DS1iW\" src=\"https://encrypted-tbn0.gstatic.com/images?q=tbn:ANd9GcQzmluwYS3ot6iuxshemtHTS5CS_-X0rajDC20ddyQ7kKk6WXF8K4KWpAIiNhM&amp;s\"/>,\n",
       " <img alt=\"\" class=\"DS1iW\" src=\"https://encrypted-tbn0.gstatic.com/images?q=tbn:ANd9GcQUpbXylJ-BCytvIaprv6cj1oqc6QchlXaSpAMaJ0KAriVmKB_AeYhz2dUPGA&amp;s\"/>,\n",
       " <img alt=\"\" class=\"DS1iW\" src=\"https://encrypted-tbn0.gstatic.com/images?q=tbn:ANd9GcQsXQiScJCEbAdDsfsj7vuOOpeE-B3yW7GTCfzXDNB9eTqYmWanHYC5YuNVJA&amp;s\"/>,\n",
       " <img alt=\"\" class=\"DS1iW\" src=\"https://encrypted-tbn0.gstatic.com/images?q=tbn:ANd9GcSMYNRVFWT78z1HfCjjsXyWHH40VRIwjNiYar3jQYHUhnaCQJZ6GSxCQ6cYto8&amp;s\"/>]"
      ]
     },
     "execution_count": 14,
     "metadata": {},
     "output_type": "execute_result"
    }
   ],
   "source": [
    "images_tage"
   ]
  },
  {
   "cell_type": "code",
   "execution_count": 15,
   "metadata": {},
   "outputs": [
    {
     "data": {
      "text/plain": [
       "21"
      ]
     },
     "execution_count": 15,
     "metadata": {},
     "output_type": "execute_result"
    }
   ],
   "source": [
    "len(images_tage)"
   ]
  },
  {
   "cell_type": "code",
   "execution_count": 16,
   "metadata": {},
   "outputs": [],
   "source": [
    "del images_tage[0]"
   ]
  },
  {
   "cell_type": "code",
   "execution_count": 18,
   "metadata": {},
   "outputs": [
    {
     "data": {
      "text/plain": [
       "1"
      ]
     },
     "execution_count": 18,
     "metadata": {},
     "output_type": "execute_result"
    }
   ],
   "source": [
    "images_tage.index(images_tage[1])"
   ]
  },
  {
   "cell_type": "code",
   "execution_count": 69,
   "metadata": {},
   "outputs": [],
   "source": [
    "for i in images_tage:\n",
    "    images_url = i['src']\n",
    "    image_data = requests.get(images_url).content\n",
    "    with open(os.path.join(save_dir, f\"{query}_{images_tage.index(i)}.jpg\"),\"wb\") as f:\n",
    "        f.write(image_data)"
   ]
  },
  {
   "cell_type": "code",
   "execution_count": 70,
   "metadata": {},
   "outputs": [
    {
     "data": {
      "text/plain": [
       "b'\\xff\\xd8\\xff\\xe0\\x00\\x10JFIF\\x00\\x01\\x01\\x00\\x00\\x01\\x00\\x01\\x00\\x00\\xff\\xdb\\x00\\x84\\x00\\t\\x06\\x07\\x08\\x07\\x06\\t\\x08\\x07\\x08\\n\\n\\t\\x0b\\r\\x16\\x0f\\r\\x0c\\x0c\\r\\x1b\\x14\\x15\\x10\\x16 \\x1d\"\" \\x1d\\x1f\\x1f$(4,$&1\\'\\x1f\\x1f-=-157:::#+?D?8C49:7\\x01\\n\\n\\n\\r\\x0c\\r\\x1a\\x0f\\x0f\\x1a7%\\x1f%77777777777777777777777777777777777777777777777777\\xff\\xc0\\x00\\x11\\x08\\x00l\\x00\\xa2\\x03\\x01\"\\x00\\x02\\x11\\x01\\x03\\x11\\x01\\xff\\xc4\\x00\\x1b\\x00\\x01\\x00\\x01\\x05\\x01\\x00\\x00\\x00\\x00\\x00\\x00\\x00\\x00\\x00\\x00\\x00\\x00\\x06\\x01\\x03\\x04\\x05\\x07\\x02\\xff\\xc4\\x008\\x10\\x00\\x01\\x03\\x02\\x04\\x05\\x02\\x04\\x04\\x03\\t\\x00\\x00\\x00\\x00\\x00\\x01\\x00\\x02\\x03\\x04\\x11\\x05\\x12!A\\x06\\x131Qaq\\x81\"2\\x91\\xa1\\x07\\x14B\\xc1#C\\xd1\\x15$3Rbc\\xb1\\xf0\\xf1\\xff\\xc4\\x00\\x19\\x01\\x01\\x00\\x03\\x01\\x01\\x00\\x00\\x00\\x00\\x00\\x00\\x00\\x00\\x00\\x00\\x00\\x00\\x01\\x02\\x03\\x04\\x05\\xff\\xc4\\x00\\x1e\\x11\\x01\\x01\\x00\\x02\\x02\\x03\\x01\\x01\\x00\\x00\\x00\\x00\\x00\\x00\\x00\\x00\\x00\\x01\\x02\\x11\\x03!\\x04\\x1212\\x13\\xff\\xda\\x00\\x0c\\x03\\x01\\x00\\x02\\x11\\x03\\x11\\x00?\\x00\\xe2(\\x88\\x80\\x88\\x88\\x08\\x88\\x80\\x88\\x88\\x08\\x88\\x80Q\\x14\\x83\\x01\\xe1<K\\x18\\x0c\\x981\\xb4\\xf4\\xae?\\xe3\\xc8/q\\xdc\\x0e\\xa5E\\xb2}L\\x96\\xfcG\\xd1O\\xea\\xb8_\\x87\\xe9K\"\\x92Y\\xcb\\x80\\xb3\\x9f\\xcd\\xb9q\\xf4\\x02\\xc3\\xea\\xb4\\xf5\\x9c=\\x86\\x87;\\xf2\\xd5\\xf26\\xe2\\xedl\\x8d\\x07\\xee\\x15\\'&5o\\xe7\\x920\\x8a\\xedL\\x0f\\xa6\\x95\\xd1H\\x06f\\x9d\\xba+KEDD@DD\\x04D@DD@\\x88\\x88\\x08\\x88\\x80\\x88\\x88\\x08\\x88\\x83w\\xc2x\\x1b\\xf1\\xccO\\x95\\xf2\\xd3\\xc2\\xc3,\\xcf$\\x00\\x1a6\\'\\xc9\\xfd\\xd4\\xd6\\x8e\\x97\\x13\\xc7\\x8c\\xce\\xa1k\\xa9\\xe8\\xa3~V\\xdd\\xc7.\\x82\\xda\\r\\xfauP\\xee\\x10\\xab\\x9a*\\xaa\\xaah\\x9f\\x95\\x95\\x10\\xd9\\xe0\\rM\\x88\\xb5\\xbe\\xa5vl\\x0eQ\\x06\\x11O\\xc8k@\\xcbg6\\xcb\\x9b\\x9f++\\xab\\xc7\\xc2d\\x83I\\xc15\\xaem\\x8c\\xc0\\x95\\x85/\\x03\\xe2\\x0c\\x17\\xe6\\xb1\\xa3\\xb9]E\\xce.\\x01\\xfc\\xbc\\xab]\\x88\\xbac\\x13\\xb23C\\xdda\\xfd2u\\xde\\x1c\\x1ck\\x12\\xc3e\\x81\\xd3\\xc3V\\x0bf\\x85\\xb7\\x8c\\x8e\\x8fn\\xff\\x00\\xd7\\xd8\\xad*\\x9fq\\x9eh\\xe9\\xd9P\\xdf\\x9d\\xa4\\xb4\\x9f\\x04tP\\x1e\\x8b\\xb3\\x8b/lv\\xf3\\xf9p\\xf5\\xcbB\"-\\x19\\x08\\x88\\x80\\x88\\x88\\x08\\x88\\x80\\x88\\x88\\x08\\x88\\x80\\x88\\x88\\x08\\x88\\x82I\\xc1tqUTV<\\xca\\xf6M\\x0c9\\xa3hh\\xca\\xedu\\xccv\\xdb\\xea\\xba\\xa3\\xabd\\xa6\\xa6d\\x91F\\xddGW4\\x96\\xb7N\\xc3\\xaf\\xa2\\xe4\\x9c\\x15;#\\xe2*x\\xe6\\xb7*\\xa0\\x18_\\xef\\xd3\\xee\\x02\\xec\\x10\\xd4\\xba\\x9c\\xba)\"\\xcc]\\xd2\\xfb.?#\\xf5\\xdb\\xd1\\xf1uq\\xeb\\xebO\\x0e3\\x89\\xd4W\\x9ai\\x1a\\xf9\\x18\\r\\x8c\\x82\\x13\\x18m\\xfaz\\xf5X\\xf8\\xc5n-\\xcc\\xa9\\x8a.c\\x19\\x07\\xcc\\xe8\\xda\\x0b\\x9f\\xd3As\\xe5o\\x1e\\xfaZWf\\x95\\xac\\x85\\xb7\\x05\\xf2v\\xed\\xf7X/\\xad\\xa2\\xae\\xc6g\\x14\\xe5\\xb2\\xc6m\\xa9\\xbd\\x83\\xbc\\xff\\x00\\xdd\\x96r\\xcd\\xb7\\xb8\\xddkh\\x96\\'\\xcd\\xaa\\xc2\\xa4}s\\x1e\\xe6X\\x9f\\xf2\\x92\\x1a.\\xa0+\\xa4qmk\\xddEX\\xdf\\x82\\xcc\\x8c\\xb7]\\xef\\xa1\\xf7\\xd5ss\\xd5up\\xfe^\\x7f\\x915\\x96\\x84D[9\\xc4D@DD\\x04D@DDH\\x88\\x88\\x08\\x88\\x88\\x11l0\\xec\\x17\\x11\\xc4\\xb5\\xa3\\xa7/n\\xba\\x97\\x06\\x8f\\xba\\xdc\\xc5\\xc1\\x15\\xbdj\\xaa\\xe9`\\x1b\\xea^B\\x08\\xb0$\\x1b\\x82A\\x1d,\\xba\\xf7\\rb\\xd0\\xd6a\\xd4\\xb3K).\\x115\\x8e$\\xeb\\x98\\x0b\\x1b\\xfb\\x85\\x16\\x87\\x84p\\xd6\\x10&\\xad\\xa8\\x99\\xdd\\xa3\\x01\\x80\\xff\\x00\\xca\\x9cC\\x81PPatx}4b3-?\\xe6\\x83\\x9d\\xab\\x89\\x7f\\x9d\\xfe\\x1c\\xa3\\xd9a\\xcf%\\xc5\\xd3\\xe3[\\x8e]<Tb\\x933\\x9a\\x1b\\x03\\x1b\\x01\\xfek\\xdf\\xa1\\xf3\\xa0:-\\x13\\xf1,\\x92\\x16\\xd0\\xd3\\xd3Y\\xc6\\xe4F\\xf2\\x01;\\xf5\\x1b\\xeaVmF)]\\x84\\xc6\\xf8\\x9fK\\x13\\xdb\\xb3\\x9a\\xdbh\\xa3\\xd5\\xdcC/!\\xcd\\x8e\\x06\\xc2\\xd3\\xd5\\xef\\x1a\\xdf\\xc0X\\xe3\\x85\\xae\\xac\\xb9q\\x93\\xea\\xcf\\x14\\xce\\xc9p\\xd9\\x84f\\xff\\x00\\x1b\\x01=\\xcd\\xef\\xfb\\x15\\x0c[j\\xca\\xc9+K\\x03\\xb4d`\\xd8w\\'\\xa9\\xf5\\xd0}\\x02\\xc7\\x9a\\x80\\xba.u7\\xc4\\xdf\\xd4\\xdd\\xdaWV\\x18\\xfa\\xcd<\\xfeL\\xbd\\xb2\\xdb\\x05\\x11\\x15\\xd4\\x11\\x15\\x10\\x11\\x11\\x05Q\\x11\\x01\\x11\\x10\\x11\\x11\\x12+\\xf4P~b\\xaa8\\x89\\xb3I\\xf8\\x8f`5?ean8u\\xa2)&\\xacsn\"hk/\\xd0\\xb8\\xff\\x00\\xe2!/mc0j\\x06\\xc4\\x03[S \\xbb\\x80\\xfeX\\xd9\\xa3\\xd0i\\xf5;\\xacA%eD\\xf6{]\\xb6V\\x8d\\xef\\xddki\\x03\\xeb\\xabIs\\x85\\xaf\\x99\\xcfq[\\x19jE-T4\\xd1\\x90\\xfea\\xd5\\xd9\\xaem\\xba\\xaa\\xcc\\xf9bkD4q;\\xf8\\xf5O\\x11\\x97\\x83l\\x8d?1\\x1e\\x8d\\xb9]\\nzw\\xe35\\x94\\x95\\x86#F\\xf8Z\\xe8\\xe3`a!\\xd1X\\x01{\\xda\\xc6\\xd6Z\\xaf\\xc3\\x1c\\x1a<B\\xaalr\\xb1\\xb7\\x8e3\\xc9\\xa3i\\xe8G\\xeau\\xbc\\x9d\\x17D\\xc4+h\\xb0\\xbai\\xabk^\\x1b\\x04,.v\\x9a4x\\xee|*e=\\xbai\\x86^\\xbd\\xa1\\x1cC\\x87`\\xf4\\x98\\x0b\\xea1\\x16]\\xdf\\xa9\\xf3|\\xf9\\xb6\\r\\xb7\\xd9q*\\xcc\\xf55\\x0f~bc\\x07\\xe1\\x07a\\xfdT\\xa7\\x8b8\\x8a\\xa3\\x8a\\xb1\\x13Q%\\xa2\\xa2\\x8a\\xe2\\x9e\\x06\\x9b\\x86\\x8e\\xe7\\xbb\\x8f\\x7fe\\xa4\\xc9\\x95\\x87$e\\xc7a\\xb2\\xb68\\xea+\\x9eW*\\xd61\\x87\\xe5\\x01l0\\xf9\\x19\\x04\\xa0Is\\x1b\\xb4w\\x8f*\\xbc\\x86\\xbd\\xb7k\\xb5\\xdf\\xb1+\\xc1\\x84\\xb7\\xaa\\xb2\\x8fx\\xc6\\x07w:j[\\x07us;\\xfayQ\\xc2\\x08$\\x11b\\r\\x88R\\xb3\\x89\\xf2i\\xc3%\\x19\\x9c:\\x13\\xbf\\xaa\\xd1bR2\\xa5\\xfc\\xd6\\xb3#\\xf7\\xff\\x00PR0\\x11\\x11\\x10\"*\\xa0*n\\xb3%\\xa0\\x961{\\\\xX\\xaeii\\xd4YVe/\\xc5\\xae\\x17\\x1f\\xaa\"\"\\xb2\\xa2\" \\x01~\\x9a\\x9e\\xcaG%8\\xa0\\xa1\\x82\\x96\\xff\\x00\\x19\\xfe$\\x9e\\\\v\\xf6\\x01k0F0U\\xf3\\xe5nfCg\\x06\\xf7v\\xdf\\xb9\\xf6[\\xca\\xb9\\xa9 \\xaa\\x90\\xd55\\xf2\\xc8\\xc7Y\\xac\\x0e\\xb3Z\\x06\\x82\\xe4u\\xfb\"W\\xb0\\xf9]\\x1cm\\xa7\\xa5\\x80>W\\xf5=K\\x8a\\xcb\\x8f\\t\\x18\\x9e\\'EAM6j\\xf7\\xb8\\x99_\\x10\\xbb\"n\\xfe\\xb6\\xfaj\\xb5.\\xc4$\\x96\\x12#ci\\xe2w\\xe9f\\x99\\x87\\x9f\\x1e\\xab\\xa9~\\x12`\\x02\\x8b\\r~7V\\xdbMX\\xd1\\xca\\x04|\\xb1\\x0e\\x9f^\\xbe\\x96U\\xbd-&\\xd3\\xac\\x1b\\rf\\x17E\\x05\\x15=\\xccq073\\xba\\x9bw\\\\\\xa3\\xf1K\\x88]\\x8bW\\x9c.\\x8aW\\xfeR\\x07\\x1c\\xee\\x06\\xc2W\\xf4$x\\x1d\\x07\\xbf\\x85\\xd0x\\xcf\\x1a8V\\x08\\xe6\\xc2\\xe2*j\\xc1kH:\\xb1\\x83\\xe6?\\xb7\\xbf\\x85\\xc2\\xb9\\x85\\xd5N|\\xba\\\\\\xe9\\xe8\\xa2D\\xda\\xb5\\x043@\\xd0\\\\Z\\x18\\xd1\\xb9\\xba\\xbb\\x94\\xc9\\xf3_/m\\xcf\\xaa\\xf4Nw\\x82z\\x0e\\x97\\xd9aVW\\x88\\xc1lz\\xf9VU\\x97,\\xb1\\xc2\\xdf\\x8c\\x81m\\x96\\x14\\xb8\\x83\\x05\\xad{\\xf6\\x01b0\\t\\x8b\\xa4\\xa9q\\xd3\\xa3v\\xf7^\\x0b\\xdf|\\xb0\\xb9\\xa0\\x7f\\xb6\\xc5(\\\\\\x96f|\\xdc\\x83\\x9c\\xf4\\xcf\\xba\\xc6{\\x81\\xb9y\\x00\\x9d\\x82\\xaf%\\xd7%\\xde\\xe4\\x95\\xe4\\x86\\x80r\\x8f^\\xc8\\x85\\x85E]\\xd5\\n\\x02\\xaa\\xa2\\xaa\\x0c\\xc8\\xabf\\x16nk\\x8e\\xc5\\\\\\xa8s$\\xb1{CJ\\xd7\\x85\\xeb1#RJ\\xce\\xe17\\xb8\\xd6r]j\\xbd=\\x80\\x1d\\n\\xb6\\xbd\\x02J\\xa3\\x95\\xe3:\\xa2\\xb9\\x00.\\x99\\x8dk\\x0b\\xdc\\xe3`\\xd1\\xb9V\\xd6\\xff\\x00\\x83a\\x8eLM\\xf2=\\xb9\\x8cq\\xdd\\xb7\\xd8\\x93d\\xa4d\\xcfC\\x1e\\x1bN\\xc8\\x83\\x995K\\xc8\\x92@\\xc3p\\xc3\\xfaE\\xfd\\xd6\\x00\\x8aJ\\xca\\xb9\\x1e\\xef\\x94\\xbc\\xb9\\xce\\xdb\\xaa\\xdd\\xe3\\xd4T\\xf4\\xb5\\x11>\\x06d2\\xc8K\\xac{\\x0b\\xacG\\x81\\x05#\\xb9b\\xd6\\t\\x13{f\\xf0\\xde\\x11\\xfd\\xbd\\x8f\\xd3P\\x06\\xff\\x00w\\x0e\\x0e\\x9c\\x8d\\xa3\\x1b{\\xda\\xcb\\xbf2<\\x9168\\xd9\\x95\\x8d\\x01\\xa0\\x01\\xa0\\x0b\\x98\\xfe\\x13\\xe1\\xf0\\x98\\x1b[y\\x04\\xf2g.!\\xdahl\\x14\\xfb\\x8ck&\\xa2\\xe1z\\xe9\\xe9\\xdd\\x96FS8\\xb5\\xdd\\x89\\xd3\\xf7T\\xbd\\xd5\\xe7Q\\xc5\\xff\\x00\\x11\\xf8\\xc2lS\\x1c\\xa9\\x82\\x82L\\xb4\\xf0\\xda\\x16\\xbckp\\xde\\xde/s\\xee\\xa2\\xd4Lp\\x7f:G\\x17?k\\x9b\\xd9a\\xc09\\x92\\xdd\\xfa\\x92nV\\xcc; \\xd0\\x0fu\\xa3=\\xbd\\xd7\\xce\\x19LX\\xdb\\x8c\\xdb\\x95\\x85G\\x01\\x9e\\\\\\xce\\x1f\\xc3f\\xbe\\xaa\\xddS\\xdd$\\x80;\\xbd\\x96|\\xd2\\x98\\\\b\\x8c5\\xade\\x80\\xb0B\\x95\\x17\\xe8NO\\x01a9\\xb7:8\\x9fP\\xab5C\\xfb6\\xfe\\xea\\xd3g\\x91\\xc7B\\x07\\xa0D*ay\\xd7(>\\xaa\\xdc\\x97kH!\\xa3\\xd1{\\x92\\xf6\\xbb\\x89w\\xa9V%\\xe8\\x10[UTB\\x80\\xaa\\x88\\x83\\xff\\xd9'"
      ]
     },
     "execution_count": 70,
     "metadata": {},
     "output_type": "execute_result"
    }
   ],
   "source": [
    "requests.get(images_tage[1]['src']).content"
   ]
  },
  {
   "cell_type": "code",
   "execution_count": null,
   "metadata": {},
   "outputs": [],
   "source": []
  },
  {
   "cell_type": "code",
   "execution_count": null,
   "metadata": {},
   "outputs": [],
   "source": []
  },
  {
   "cell_type": "code",
   "execution_count": null,
   "metadata": {},
   "outputs": [],
   "source": []
  }
 ],
 "metadata": {
  "kernelspec": {
   "display_name": "Python 3",
   "language": "python",
   "name": "python3"
  },
  "language_info": {
   "codemirror_mode": {
    "name": "ipython",
    "version": 3
   },
   "file_extension": ".py",
   "mimetype": "text/x-python",
   "name": "python",
   "nbconvert_exporter": "python",
   "pygments_lexer": "ipython3",
   "version": "3.11.0"
  }
 },
 "nbformat": 4,
 "nbformat_minor": 2
}
